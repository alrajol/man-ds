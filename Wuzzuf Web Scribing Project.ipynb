{
 "cells": [
  {
   "cell_type": "code",
   "execution_count": null,
   "id": "737c6e63",
   "metadata": {},
   "outputs": [],
   "source": [
    "import pandas as pd\n",
    "import numpy as np\n",
    "import matplotlib.pyplot as plt\n",
    "%matplotlib inline\n",
    "import seaborn as sns\n",
    "sns.set()"
   ]
  },
  {
   "cell_type": "code",
   "execution_count": null,
   "id": "5b351319",
   "metadata": {},
   "outputs": [],
   "source": [
    "#pip install bs4"
   ]
  },
  {
   "cell_type": "code",
   "execution_count": null,
   "id": "b6473938",
   "metadata": {},
   "outputs": [],
   "source": [
    "from bs4 import BeautifulSoup as bs"
   ]
  },
  {
   "cell_type": "code",
   "execution_count": null,
   "id": "a70691f2",
   "metadata": {},
   "outputs": [],
   "source": [
    "from urllib.request import urlopen"
   ]
  },
  {
   "cell_type": "code",
   "execution_count": null,
   "id": "69c1c69d",
   "metadata": {},
   "outputs": [],
   "source": [
    "url='https://wuzzuf.net/search/jobs/?q=SEO&a=navbg'"
   ]
  },
  {
   "cell_type": "code",
   "execution_count": null,
   "id": "dd3f7aaa",
   "metadata": {},
   "outputs": [],
   "source": [
    "client = urlopen(url)"
   ]
  },
  {
   "cell_type": "code",
   "execution_count": null,
   "id": "78476e0c",
   "metadata": {},
   "outputs": [],
   "source": [
    "html = client.read()"
   ]
  },
  {
   "cell_type": "code",
   "execution_count": null,
   "id": "04894134",
   "metadata": {},
   "outputs": [],
   "source": [
    "html"
   ]
  },
  {
   "cell_type": "code",
   "execution_count": null,
   "id": "18895f6d",
   "metadata": {},
   "outputs": [],
   "source": [
    "client.close()"
   ]
  },
  {
   "cell_type": "code",
   "execution_count": null,
   "id": "bd2486dc",
   "metadata": {},
   "outputs": [],
   "source": [
    "soup = bs(html, 'html.parser')"
   ]
  },
  {
   "cell_type": "code",
   "execution_count": null,
   "id": "3e87affe",
   "metadata": {},
   "outputs": [],
   "source": [
    "soup"
   ]
  },
  {
   "cell_type": "code",
   "execution_count": null,
   "id": "c3c12e6d",
   "metadata": {},
   "outputs": [],
   "source": [
    "containers = soup.find_all(\"div\",{\"class\":\"css-1gatmva e1v1l3u10\"})"
   ]
  },
  {
   "cell_type": "code",
   "execution_count": null,
   "id": "69cf1831",
   "metadata": {},
   "outputs": [],
   "source": [
    "len(containers)"
   ]
  },
  {
   "cell_type": "code",
   "execution_count": null,
   "id": "4903b0f1",
   "metadata": {},
   "outputs": [],
   "source": [
    "bs.prettify(containers[0])"
   ]
  },
  {
   "cell_type": "code",
   "execution_count": null,
   "id": "33d34e3e",
   "metadata": {},
   "outputs": [],
   "source": [
    "containers[0]"
   ]
  },
  {
   "cell_type": "code",
   "execution_count": null,
   "id": "a6f2bb83",
   "metadata": {},
   "outputs": [],
   "source": [
    "containers[0].div.h2"
   ]
  },
  {
   "cell_type": "code",
   "execution_count": null,
   "id": "97327f81",
   "metadata": {},
   "outputs": [],
   "source": [
    "containers[0].div.h2.text"
   ]
  },
  {
   "cell_type": "code",
   "execution_count": null,
   "id": "f54a9465",
   "metadata": {},
   "outputs": [],
   "source": [
    "Job_Title = containers[0].div.h2.text\n",
    "Job_Title"
   ]
  },
  {
   "cell_type": "code",
   "execution_count": null,
   "id": "92a6c776",
   "metadata": {},
   "outputs": [],
   "source": [
    "Job_Title = containers[0].findAll(\"h2\",{\"css-m604qf\"})\n",
    "Job_Title"
   ]
  },
  {
   "cell_type": "code",
   "execution_count": null,
   "id": "3f171c5e",
   "metadata": {},
   "outputs": [],
   "source": [
    "Job_Title[0].text"
   ]
  },
  {
   "cell_type": "code",
   "execution_count": null,
   "id": "8b008047",
   "metadata": {},
   "outputs": [],
   "source": [
    "Company_Name = containers[0].findAll(\"a\",{\"class\" : \"css-17s97q8\"})\n",
    "Company_Name[0].text"
   ]
  },
  {
   "cell_type": "code",
   "execution_count": null,
   "id": "f137ce23",
   "metadata": {},
   "outputs": [],
   "source": [
    "Work_Time = containers[0].findAll(\"div\",{\"class\" : \"css-1lh32fc\"})\n",
    "Work_Time[0].text"
   ]
  },
  {
   "cell_type": "code",
   "execution_count": null,
   "id": "be2d2744",
   "metadata": {},
   "outputs": [],
   "source": [
    "Job_Loc = containers[0].findAll(\"span\",{\"class\":\"css-5wys0k\"})\n",
    "Job_Loc[0].text"
   ]
  },
  {
   "cell_type": "code",
   "execution_count": null,
   "id": "8d26209e",
   "metadata": {},
   "outputs": [],
   "source": [
    "f = open(\"C:\\\\01\\\\zaf.csv\",\"w\")\n",
    "header = \"JOB_Title,COMPANY_Name,WORK_Time,JOB_Loc\"\n",
    "f.write(header)"
   ]
  },
  {
   "cell_type": "code",
   "execution_count": null,
   "id": "ae1d5cc5",
   "metadata": {},
   "outputs": [],
   "source": [
    "for container in containers:\n",
    "    Job_Title = container.findAll(\"h2\",{\"css-m604qf\"})\n",
    "    JOB_Title = Job_Title[0].text.strip()\n",
    "    \n",
    "    Company_Name = container.findAll(\"a\",{\"class\" : \"css-17s97q8\"})\n",
    "    COMPANY_Name = Company_Name[0].text.strip()\n",
    "    \n",
    "    Work_Time = container.findAll(\"div\",{\"class\" : \"css-1lh32fc\"})\n",
    "    WORK_Time = Work_Time[0].text.strip()\n",
    "    \n",
    "    Job_Loc = container.findAll(\"span\",{\"class\":\"css-5wys0k\"})\n",
    "                               \n",
    "    JOB_Loc = Job_Loc[0].text.strip()\n",
    "    \n",
    "    \n",
    "    # هنا نعرض البيانات\n",
    "    \n",
    "    print(JOB_Title)\n",
    "    print(COMPANY_Name)\n",
    "    print(WORK_Time)\n",
    "    print(JOB_Loc)\n",
    "    print()\n",
    "    \n",
    "    # هنا نخزن الكلام\n",
    "    #print(JOB_Title + \" , \" + Company_Name + \" , \" +  JOB_Location   + \" , \" + JOB_Time_Work)\n",
    "    #print()\n",
    "    \n",
    "    # نخزن كل الداتا في جدول خارجي\n",
    "    #f.write(JOB_Title + \" , \" + Company_Name + \" , \" +  JOB_Location   + \" , \" + JOB_Time_Work + \"\\n\")\n",
    "#f.close()\n",
    "    "
   ]
  },
  {
   "cell_type": "code",
   "execution_count": null,
   "id": "a5053f9f",
   "metadata": {},
   "outputs": [],
   "source": [
    "for container in containers:\n",
    "    Job_Title = container.findAll(\"h2\",{\"css-m604qf\"})\n",
    "    JOB_Title = Job_Title[0].text.strip()\n",
    "    \n",
    "    Company_Name = container.findAll(\"a\",{\"class\" : \"css-17s97q8\"})\n",
    "    COMPANY_Name = Company_Name[0].text.strip()\n",
    "    \n",
    "    Work_Time = container.findAll(\"div\",{\"class\" : \"css-1lh32fc\"})\n",
    "    WORK_Time = Work_Time[0].text.strip()\n",
    "    \n",
    "    Job_Loc = container.findAll(\"span\",{\"class\":\"css-5wys0k\"})\n",
    "    JOB_Loc = Job_Loc[0].text.strip()\n",
    "    \n",
    "    \n",
    "    print(JOB_Title + \" , \" + COMPANY_Name + \" , \" +  WORK_Time   + \" , \" + JOB_Loc)\n",
    "    print()"
   ]
  },
  {
   "cell_type": "code",
   "execution_count": null,
   "id": "f4bf84fa",
   "metadata": {},
   "outputs": [],
   "source": [
    "for container in containers:\n",
    "    Job_Title = container.findAll(\"h2\",{\"css-m604qf\"})\n",
    "    JOB_Title = Job_Title[0].text.strip()\n",
    "    \n",
    "    Company_Name = container.findAll(\"a\",{\"class\" : \"css-17s97q8\"})\n",
    "    COMPANY_Name = Company_Name[0].text.strip()\n",
    "    \n",
    "    Work_Time = container.findAll(\"div\",{\"class\" : \"css-1lh32fc\"})\n",
    "    WORK_Time = Work_Time[0].text.strip()\n",
    "    \n",
    "    Job_Loc = container.findAll(\"span\",{\"class\":\"css-5wys0k\"})\n",
    "    JOB_Loc = Job_Loc[0].text.strip()\n",
    "    f.write(JOB_Title + \" , \" + COMPANY_Name + \" , \" +  WORK_Time   + \" , \" + JOB_Loc + \"\\n\")\n",
    "f.close()"
   ]
  },
  {
   "cell_type": "code",
   "execution_count": null,
   "id": "38ef10ed",
   "metadata": {},
   "outputs": [],
   "source": []
  },
  {
   "cell_type": "code",
   "execution_count": null,
   "id": "821ec950",
   "metadata": {},
   "outputs": [],
   "source": [
    "ww = pd.read_csv('C:\\\\01\\\\zaf.csv',us)\n",
    "ww"
   ]
  },
  {
   "cell_type": "code",
   "execution_count": null,
   "id": "18139633",
   "metadata": {},
   "outputs": [],
   "source": [
    "ww.head()"
   ]
  },
  {
   "cell_type": "code",
   "execution_count": null,
   "id": "b88a9fb9",
   "metadata": {},
   "outputs": [],
   "source": [
    "ww.columns"
   ]
  },
  {
   "cell_type": "code",
   "execution_count": null,
   "id": "008fc517",
   "metadata": {},
   "outputs": [],
   "source": [
    "# في هذا المثال بقي علي مراجعة كورس بانداس الهندي وهو كيفية عرض بعض البيانات من الجدول وتجاهل الحقول التي لا أريد عرضها حيث بوجد أخر 3 \n",
    "# حقول لا أريد عرضها في الجدول\n"
   ]
  },
  {
   "cell_type": "code",
   "execution_count": null,
   "id": "471445e0",
   "metadata": {},
   "outputs": [],
   "source": []
  },
  {
   "cell_type": "code",
   "execution_count": null,
   "id": "9fb4e790",
   "metadata": {},
   "outputs": [],
   "source": []
  },
  {
   "cell_type": "code",
   "execution_count": null,
   "id": "d6f6aec5",
   "metadata": {},
   "outputs": [],
   "source": []
  },
  {
   "cell_type": "code",
   "execution_count": null,
   "id": "48ad1f2d",
   "metadata": {},
   "outputs": [],
   "source": []
  },
  {
   "cell_type": "code",
   "execution_count": null,
   "id": "0b02835f",
   "metadata": {},
   "outputs": [],
   "source": []
  },
  {
   "cell_type": "code",
   "execution_count": null,
   "id": "6c1bf2f6",
   "metadata": {},
   "outputs": [],
   "source": []
  }
 ],
 "metadata": {
  "kernelspec": {
   "display_name": "Python 3 (ipykernel)",
   "language": "python",
   "name": "python3"
  },
  "language_info": {
   "codemirror_mode": {
    "name": "ipython",
    "version": 3
   },
   "file_extension": ".py",
   "mimetype": "text/x-python",
   "name": "python",
   "nbconvert_exporter": "python",
   "pygments_lexer": "ipython3",
   "version": "3.9.7"
  }
 },
 "nbformat": 4,
 "nbformat_minor": 5
}
